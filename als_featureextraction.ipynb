{
 "cells": [
  {
   "cell_type": "code",
   "execution_count": 1,
   "metadata": {},
   "outputs": [],
   "source": [
    "import pandas as pd\n",
    "import numpy as np\n",
    "import pyspark\n",
    "from pyspark.ml.recommendation import ALS\n",
    "\n",
    "spark = (pyspark.sql.SparkSession.builder\n",
    "    .master(\"local\")\n",
    "    .getOrCreate())"
   ]
  },
  {
   "cell_type": "markdown",
   "metadata": {},
   "source": [
    "For this example, first just a quick visual of a sparse user-item matrix, commonly what is used in recommendation systems.  This is a completely fictious one to recommend cheese to Muppets. Use whatever two things come to mind first! As you can see all users have rated something, but we have many unknowns."
   ]
  },
  {
   "cell_type": "code",
   "execution_count": 14,
   "metadata": {},
   "outputs": [],
   "source": [
    "muppet_cheese = [\n",
    "{'muppet': 'Fozzie','gouda': 5, 'cheddar': 4,\n",
    " 'brie': '-', 'swiss': 1, 'roquefort': '-'},\n",
    "{'muppet': 'Kermit the Frog', 'gouda': '-', 'cheddar': 3,\n",
    " 'brie': 4, 'swiss': 5, 'roquefort': '-'},\n",
    "{'muppet': 'Rowlf the Dog', 'gouda': 2, 'cheddar': 4,\n",
    " 'brie': 3, 'swiss': '-', 'roquefort': '-'},\n",
    "{'muppet': 'Gonzo', 'gouda': '-', 'cheddar': '-',\n",
    " 'brie': '-', 'swiss': 3, 'roquefort': 4},\n",
    "{'muppet': 'Miss Piggy', 'gouda': 5, 'cheddar': 1,\n",
    " 'brie': 3, 'swiss': '-', 'roquefort': 5}\n",
    "        ]\n",
    "\n",
    "mc = pd.DataFrame(muppet_cheese)"
   ]
  },
  {
   "cell_type": "code",
   "execution_count": 6,
   "metadata": {},
   "outputs": [
    {
     "data": {
      "text/html": [
       "<div>\n",
       "<style scoped>\n",
       "    .dataframe tbody tr th:only-of-type {\n",
       "        vertical-align: middle;\n",
       "    }\n",
       "\n",
       "    .dataframe tbody tr th {\n",
       "        vertical-align: top;\n",
       "    }\n",
       "\n",
       "    .dataframe thead th {\n",
       "        text-align: right;\n",
       "    }\n",
       "</style>\n",
       "<table border=\"1\" class=\"dataframe\">\n",
       "  <thead>\n",
       "    <tr style=\"text-align: right;\">\n",
       "      <th></th>\n",
       "      <th>muppet</th>\n",
       "      <th>brie</th>\n",
       "      <th>cheddar</th>\n",
       "      <th>gouda</th>\n",
       "      <th>roquefort</th>\n",
       "      <th>swiss</th>\n",
       "    </tr>\n",
       "  </thead>\n",
       "  <tbody>\n",
       "    <tr>\n",
       "      <td>0</td>\n",
       "      <td>Fozzie</td>\n",
       "      <td>-</td>\n",
       "      <td>4</td>\n",
       "      <td>5</td>\n",
       "      <td>-</td>\n",
       "      <td>1</td>\n",
       "    </tr>\n",
       "    <tr>\n",
       "      <td>1</td>\n",
       "      <td>Kermit the Frog</td>\n",
       "      <td>4</td>\n",
       "      <td>3</td>\n",
       "      <td>-</td>\n",
       "      <td>-</td>\n",
       "      <td>5</td>\n",
       "    </tr>\n",
       "    <tr>\n",
       "      <td>2</td>\n",
       "      <td>Rowlf the Dog</td>\n",
       "      <td>3</td>\n",
       "      <td>4</td>\n",
       "      <td>2</td>\n",
       "      <td>-</td>\n",
       "      <td>-</td>\n",
       "    </tr>\n",
       "    <tr>\n",
       "      <td>3</td>\n",
       "      <td>Gonzo</td>\n",
       "      <td>-</td>\n",
       "      <td>-</td>\n",
       "      <td>-</td>\n",
       "      <td>4</td>\n",
       "      <td>3</td>\n",
       "    </tr>\n",
       "    <tr>\n",
       "      <td>4</td>\n",
       "      <td>Miss Piggy</td>\n",
       "      <td>3</td>\n",
       "      <td>1</td>\n",
       "      <td>5</td>\n",
       "      <td>5</td>\n",
       "      <td>-</td>\n",
       "    </tr>\n",
       "  </tbody>\n",
       "</table>\n",
       "</div>"
      ],
      "text/plain": [
       "            muppet brie cheddar gouda roquefort swiss\n",
       "0           Fozzie    -       4     5         -     1\n",
       "1  Kermit the Frog    4       3     -         -     5\n",
       "2    Rowlf the Dog    3       4     2         -     -\n",
       "3            Gonzo    -       -     -         4     3\n",
       "4       Miss Piggy    3       1     5         5     -"
      ]
     },
     "execution_count": 6,
     "metadata": {},
     "output_type": "execute_result"
    }
   ],
   "source": [
    "mc[['muppet', 'brie', 'cheddar', 'gouda', 'roquefort', 'swiss']]"
   ]
  },
  {
   "cell_type": "markdown",
   "metadata": {},
   "source": [
    "For creating the ALS model in Spark, data would typically more resemble the following format, each row a record of a user-item interaction.  For Spark, you also need to make sure the user and item are numeric, they cannot be text. "
   ]
  },
  {
   "cell_type": "code",
   "execution_count": 12,
   "metadata": {},
   "outputs": [],
   "source": [
    "muppet_cheese_als = [\n",
    "    {'muppet': 1,'item':101, 'score': 5},\n",
    "    {'muppet': 1,'item': 201, 'score': 4},\n",
    "    {'muppet': 1,'item':401, 'score': 1},\n",
    "    {'muppet': 2,'item': 201, 'score': 3},\n",
    "    {'muppet': 2,'item': 301, 'score': 4},\n",
    "    {'muppet': 2,'item':401, 'score': 5},\n",
    "    {'muppet': 3,'item':101, 'score': 2},\n",
    "    {'muppet': 3,'item': 201, 'score': 4},\n",
    "    {'muppet': 3,'item': 301, 'score': 3},\n",
    "    {'muppet': 4,'item':401, 'score': 3},\n",
    "    {'muppet': 4,'item': 501, 'score': 4},\n",
    "    {'muppet': 5,'item':101, 'score': 5},\n",
    "    {'muppet': 5,'item': 201, 'score': 1},\n",
    "    {'muppet': 5,'item': 301, 'score': 3},\n",
    "    {'muppet': 5,'item': 501, 'score': 5},\n",
    "        ]\n",
    "muppet_cheese_als_df = pd.DataFrame(muppet_cheese_als)"
   ]
  },
  {
   "cell_type": "code",
   "execution_count": 13,
   "metadata": {},
   "outputs": [],
   "source": [
    "muppets = spark.createDataFrame(muppet_cheese_als_df)"
   ]
  },
  {
   "cell_type": "markdown",
   "metadata": {},
   "source": [
    "Typically, you would create train-test split to validate the results, but this is a small silly Muppet example, so we throw it all into our model:"
   ]
  },
  {
   "cell_type": "code",
   "execution_count": 14,
   "metadata": {},
   "outputs": [],
   "source": [
    "als = ALS(rank=10, regParam=.1, maxIter=20,\n",
    "          userCol='muppet', itemCol='item', \n",
    "          ratingCol='score', nonnegative=True)\n",
    "\n",
    "als_model = als.fit(muppets)"
   ]
  },
  {
   "cell_type": "code",
   "execution_count": 15,
   "metadata": {},
   "outputs": [],
   "source": [
    "items = als_model.itemFactors.toPandas()\n",
    "users = als_model.userFactors.toPandas()"
   ]
  },
  {
   "cell_type": "code",
   "execution_count": 49,
   "metadata": {},
   "outputs": [
    {
     "data": {
      "text/html": [
       "<div>\n",
       "<style scoped>\n",
       "    .dataframe tbody tr th:only-of-type {\n",
       "        vertical-align: middle;\n",
       "    }\n",
       "\n",
       "    .dataframe tbody tr th {\n",
       "        vertical-align: top;\n",
       "    }\n",
       "\n",
       "    .dataframe thead th {\n",
       "        text-align: right;\n",
       "    }\n",
       "</style>\n",
       "<table border=\"1\" class=\"dataframe\">\n",
       "  <thead>\n",
       "    <tr style=\"text-align: right;\">\n",
       "      <th></th>\n",
       "      <th>cheese</th>\n",
       "      <th>1</th>\n",
       "      <th>2</th>\n",
       "      <th>3</th>\n",
       "      <th>4</th>\n",
       "      <th>5</th>\n",
       "      <th>6</th>\n",
       "      <th>7</th>\n",
       "      <th>8</th>\n",
       "      <th>9</th>\n",
       "      <th>10</th>\n",
       "    </tr>\n",
       "  </thead>\n",
       "  <tbody>\n",
       "    <tr>\n",
       "      <td>0</td>\n",
       "      <td>gouda</td>\n",
       "      <td>0.564988</td>\n",
       "      <td>0.0</td>\n",
       "      <td>0.0</td>\n",
       "      <td>2.074283</td>\n",
       "      <td>0.538793</td>\n",
       "      <td>0.0</td>\n",
       "      <td>0.0</td>\n",
       "      <td>1.091593</td>\n",
       "      <td>0.329288</td>\n",
       "      <td>0.500320</td>\n",
       "    </tr>\n",
       "    <tr>\n",
       "      <td>1</td>\n",
       "      <td>cheddar</td>\n",
       "      <td>1.923183</td>\n",
       "      <td>0.0</td>\n",
       "      <td>0.0</td>\n",
       "      <td>0.774878</td>\n",
       "      <td>0.000000</td>\n",
       "      <td>0.0</td>\n",
       "      <td>0.0</td>\n",
       "      <td>0.000000</td>\n",
       "      <td>0.269862</td>\n",
       "      <td>0.000000</td>\n",
       "    </tr>\n",
       "    <tr>\n",
       "      <td>2</td>\n",
       "      <td>brie</td>\n",
       "      <td>1.184818</td>\n",
       "      <td>0.0</td>\n",
       "      <td>0.0</td>\n",
       "      <td>0.824768</td>\n",
       "      <td>0.592750</td>\n",
       "      <td>0.0</td>\n",
       "      <td>0.0</td>\n",
       "      <td>0.546756</td>\n",
       "      <td>0.727644</td>\n",
       "      <td>0.550722</td>\n",
       "    </tr>\n",
       "    <tr>\n",
       "      <td>3</td>\n",
       "      <td>swiss</td>\n",
       "      <td>0.734064</td>\n",
       "      <td>0.0</td>\n",
       "      <td>0.0</td>\n",
       "      <td>0.000000</td>\n",
       "      <td>1.056171</td>\n",
       "      <td>0.0</td>\n",
       "      <td>0.0</td>\n",
       "      <td>0.398587</td>\n",
       "      <td>1.350816</td>\n",
       "      <td>0.981680</td>\n",
       "    </tr>\n",
       "    <tr>\n",
       "      <td>4</td>\n",
       "      <td>roquefort</td>\n",
       "      <td>0.146882</td>\n",
       "      <td>0.0</td>\n",
       "      <td>0.0</td>\n",
       "      <td>1.346822</td>\n",
       "      <td>0.997866</td>\n",
       "      <td>0.0</td>\n",
       "      <td>0.0</td>\n",
       "      <td>1.197902</td>\n",
       "      <td>0.833252</td>\n",
       "      <td>0.926784</td>\n",
       "    </tr>\n",
       "  </tbody>\n",
       "</table>\n",
       "</div>"
      ],
      "text/plain": [
       "      cheese         1    2    3         4         5    6    7         8  \\\n",
       "0      gouda  0.564988  0.0  0.0  2.074283  0.538793  0.0  0.0  1.091593   \n",
       "1    cheddar  1.923183  0.0  0.0  0.774878  0.000000  0.0  0.0  0.000000   \n",
       "2       brie  1.184818  0.0  0.0  0.824768  0.592750  0.0  0.0  0.546756   \n",
       "3      swiss  0.734064  0.0  0.0  0.000000  1.056171  0.0  0.0  0.398587   \n",
       "4  roquefort  0.146882  0.0  0.0  1.346822  0.997866  0.0  0.0  1.197902   \n",
       "\n",
       "          9        10  \n",
       "0  0.329288  0.500320  \n",
       "1  0.269862  0.000000  \n",
       "2  0.727644  0.550722  \n",
       "3  1.350816  0.981680  \n",
       "4  0.833252  0.926784  "
      ]
     },
     "execution_count": 49,
     "metadata": {},
     "output_type": "execute_result"
    }
   ],
   "source": [
    "for i in range(10):\n",
    "    items[str(i + 1)] = items['features'].apply(lambda x: x[i])\n",
    "items['cheese'] = ['gouda', 'cheddar', 'brie', 'swiss', 'roquefort']\n",
    "#users['muppet'] = ['Fozzie', 'Kermit the Frog', 'Rowlf the Dog', 'Gonzo', 'Miss Piggy']\n",
    "items[['cheese', '1', '2', '3', '4', '5', '6', '7', '8', '9', '10']]"
   ]
  },
  {
   "cell_type": "code",
   "execution_count": 50,
   "metadata": {},
   "outputs": [
    {
     "data": {
      "text/html": [
       "<div>\n",
       "<style scoped>\n",
       "    .dataframe tbody tr th:only-of-type {\n",
       "        vertical-align: middle;\n",
       "    }\n",
       "\n",
       "    .dataframe tbody tr th {\n",
       "        vertical-align: top;\n",
       "    }\n",
       "\n",
       "    .dataframe thead th {\n",
       "        text-align: right;\n",
       "    }\n",
       "</style>\n",
       "<table border=\"1\" class=\"dataframe\">\n",
       "  <thead>\n",
       "    <tr style=\"text-align: right;\">\n",
       "      <th></th>\n",
       "      <th>muppet</th>\n",
       "      <th>brie</th>\n",
       "      <th>cheddar</th>\n",
       "      <th>gouda</th>\n",
       "      <th>swiss</th>\n",
       "      <th>roquefort</th>\n",
       "    </tr>\n",
       "  </thead>\n",
       "  <tbody>\n",
       "    <tr>\n",
       "      <td>0</td>\n",
       "      <td>Fozzie</td>\n",
       "      <td>3.201114</td>\n",
       "      <td>3.803025</td>\n",
       "      <td>4.823604</td>\n",
       "      <td>1.128277</td>\n",
       "      <td>3.080742</td>\n",
       "    </tr>\n",
       "    <tr>\n",
       "      <td>1</td>\n",
       "      <td>Kermit the Frog</td>\n",
       "      <td>3.952644</td>\n",
       "      <td>2.934336</td>\n",
       "      <td>3.180585</td>\n",
       "      <td>4.749050</td>\n",
       "      <td>3.989108</td>\n",
       "    </tr>\n",
       "    <tr>\n",
       "      <td>2</td>\n",
       "      <td>Rowlf the Dog</td>\n",
       "      <td>2.862721</td>\n",
       "      <td>3.788768</td>\n",
       "      <td>2.077029</td>\n",
       "      <td>2.139400</td>\n",
       "      <td>1.395473</td>\n",
       "    </tr>\n",
       "    <tr>\n",
       "      <td>3</td>\n",
       "      <td>Gonzo</td>\n",
       "      <td>2.644571</td>\n",
       "      <td>1.211610</td>\n",
       "      <td>3.414823</td>\n",
       "      <td>2.956365</td>\n",
       "      <td>3.893735</td>\n",
       "    </tr>\n",
       "    <tr>\n",
       "      <td>4</td>\n",
       "      <td>Miss Piggy</td>\n",
       "      <td>2.876855</td>\n",
       "      <td>1.165907</td>\n",
       "      <td>4.814780</td>\n",
       "      <td>2.607894</td>\n",
       "      <td>4.873067</td>\n",
       "    </tr>\n",
       "  </tbody>\n",
       "</table>\n",
       "</div>"
      ],
      "text/plain": [
       "            muppet      brie   cheddar     gouda     swiss  roquefort\n",
       "0           Fozzie  3.201114  3.803025  4.823604  1.128277   3.080742\n",
       "1  Kermit the Frog  3.952644  2.934336  3.180585  4.749050   3.989108\n",
       "2    Rowlf the Dog  2.862721  3.788768  2.077029  2.139400   1.395473\n",
       "3            Gonzo  2.644571  1.211610  3.414823  2.956365   3.893735\n",
       "4       Miss Piggy  2.876855  1.165907  4.814780  2.607894   4.873067"
      ]
     },
     "execution_count": 50,
     "metadata": {},
     "output_type": "execute_result"
    }
   ],
   "source": [
    "users['gouda'] = users['features'].apply(lambda x: np.dot(x, items['features'][0]))\n",
    "users['cheddar'] = users['features'].apply(lambda x: np.dot(x, items['features'][1]))\n",
    "users['brie'] = users['features'].apply(lambda x: np.dot(x, items['features'][2]))\n",
    "users['swiss'] = users['features'].apply(lambda x: np.dot(x, items['features'][3]))\n",
    "users['roquefort'] = users['features'].apply(lambda x: np.dot(x, items['features'][4]))\n",
    "users['muppet'] = ['Fozzie', 'Kermit the Frog', 'Rowlf the Dog', 'Gonzo', 'Miss Piggy']\n",
    "users[['muppet', 'brie', 'cheddar', 'gouda', 'swiss', 'roquefort']]"
   ]
  },
  {
   "cell_type": "code",
   "execution_count": 60,
   "metadata": {},
   "outputs": [],
   "source": [
    "select_cheese = items.iloc[0:2, 2:12].to_numpy()"
   ]
  },
  {
   "cell_type": "code",
   "execution_count": 55,
   "metadata": {},
   "outputs": [
    {
     "data": {
      "text/plain": [
       "(2, 10)"
      ]
     },
     "execution_count": 55,
     "metadata": {},
     "output_type": "execute_result"
    }
   ],
   "source": [
    "cheese_1.shape"
   ]
  },
  {
   "cell_type": "code",
   "execution_count": 58,
   "metadata": {},
   "outputs": [
    {
     "data": {
      "text/plain": [
       "(2, 1)"
      ]
     },
     "execution_count": 58,
     "metadata": {},
     "output_type": "execute_result"
    }
   ],
   "source": [
    "dr_teeth = np.array([[5],[5]])\n",
    "dr_teeth.shape"
   ]
  },
  {
   "cell_type": "code",
   "execution_count": 62,
   "metadata": {},
   "outputs": [
    {
     "data": {
      "text/plain": [
       "array([1.94412615, 0.        , 0.        , 1.49873073, 0.20873594,\n",
       "       0.        , 0.        , 0.42289857, 0.36965752, 0.19383103])"
      ]
     },
     "execution_count": 62,
     "metadata": {},
     "output_type": "execute_result"
    }
   ],
   "source": [
    "dr_teeth_features = np.linalg.lstsq(select_cheese, dr_teeth, rcond=None)\n",
    "dr_teeth_features = dr_teeth_features[0].reshape((10,))\n",
    "dr_teeth_features"
   ]
  },
  {
   "cell_type": "code",
   "execution_count": 76,
   "metadata": {},
   "outputs": [
    {
     "name": "stdout",
     "output_type": "stream",
     "text": [
      "('gouda', 4.9999999999999964)\n",
      "('cheddar', 5.000000000000001)\n",
      "('brie', 4.270218133363084)\n",
      "('swiss', 2.505755675697055)\n",
      "('roquefort', 3.5066194383500755)\n"
     ]
    }
   ],
   "source": [
    "dr_teeth_scores = [np.dot(dr_teeth_features, row) for row in items.iloc[:, 2:12].to_numpy()]\n",
    "for row in zip(items['cheese'], dr_teeth_scores):\n",
    "    print(row)"
   ]
  },
  {
   "cell_type": "code",
   "execution_count": null,
   "metadata": {},
   "outputs": [],
   "source": []
  }
 ],
 "metadata": {
  "kernelspec": {
   "display_name": "Python 3",
   "language": "python",
   "name": "python3"
  },
  "language_info": {
   "codemirror_mode": {
    "name": "ipython",
    "version": 3
   },
   "file_extension": ".py",
   "mimetype": "text/x-python",
   "name": "python",
   "nbconvert_exporter": "python",
   "pygments_lexer": "ipython3",
   "version": "3.7.1"
  }
 },
 "nbformat": 4,
 "nbformat_minor": 2
}
