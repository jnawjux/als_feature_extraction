{
 "cells": [
  {
   "cell_type": "code",
   "execution_count": 1,
   "metadata": {},
   "outputs": [],
   "source": [
    "import pandas as pd\n",
    "import numpy as np\n",
    "import pyspark\n",
    "from pyspark.ml.recommendation import ALS\n",
    "\n",
    "spark = (pyspark.sql.SparkSession.builder\n",
    "    .master(\"local\")\n",
    "    .getOrCreate())"
   ]
  },
  {
   "cell_type": "markdown",
   "metadata": {},
   "source": [
    "For this example, first just a quick visual of a sparse user-item matrix, commonly what is used in recommendation systems.  This is a completely fictious one to recommend cheese to Muppets. Use whatever two things come to mind first! As you can see all users have rated something, but we have many unknowns."
   ]
  },
  {
   "cell_type": "code",
   "execution_count": 2,
   "metadata": {},
   "outputs": [],
   "source": [
    "muppet_cheese = [\n",
    "{'muppet': 'Fozzie','gouda': 5, 'cheddar': 4,\n",
    " 'brie': '-', 'swiss': 1, 'roquefort': '-'},\n",
    "{'muppet': 'Kermit the Frog', 'gouda': '-', 'cheddar': 3,\n",
    " 'brie': 4, 'swiss': 5, 'roquefort': '-'},\n",
    "{'muppet': 'Rowlf the Dog', 'gouda': 2, 'cheddar': 4,\n",
    " 'brie': 3, 'swiss': '-', 'roquefort': '-'},\n",
    "{'muppet': 'Gonzo', 'gouda': '-', 'cheddar': '-',\n",
    " 'brie': '-', 'swiss': 3, 'roquefort': 4},\n",
    "{'muppet': 'Miss Piggy', 'gouda': 5, 'cheddar': 1,\n",
    " 'brie': 3, 'swiss': '-', 'roquefort': 5}\n",
    "        ]\n",
    "\n",
    "mc = pd.DataFrame(muppet_cheese)"
   ]
  },
  {
   "cell_type": "code",
   "execution_count": 3,
   "metadata": {},
   "outputs": [
    {
     "data": {
      "text/html": [
       "<div>\n",
       "<style scoped>\n",
       "    .dataframe tbody tr th:only-of-type {\n",
       "        vertical-align: middle;\n",
       "    }\n",
       "\n",
       "    .dataframe tbody tr th {\n",
       "        vertical-align: top;\n",
       "    }\n",
       "\n",
       "    .dataframe thead th {\n",
       "        text-align: right;\n",
       "    }\n",
       "</style>\n",
       "<table border=\"1\" class=\"dataframe\">\n",
       "  <thead>\n",
       "    <tr style=\"text-align: right;\">\n",
       "      <th></th>\n",
       "      <th>muppet</th>\n",
       "      <th>brie</th>\n",
       "      <th>cheddar</th>\n",
       "      <th>gouda</th>\n",
       "      <th>roquefort</th>\n",
       "      <th>swiss</th>\n",
       "    </tr>\n",
       "  </thead>\n",
       "  <tbody>\n",
       "    <tr>\n",
       "      <td>0</td>\n",
       "      <td>Fozzie</td>\n",
       "      <td>-</td>\n",
       "      <td>4</td>\n",
       "      <td>5</td>\n",
       "      <td>-</td>\n",
       "      <td>1</td>\n",
       "    </tr>\n",
       "    <tr>\n",
       "      <td>1</td>\n",
       "      <td>Kermit the Frog</td>\n",
       "      <td>4</td>\n",
       "      <td>3</td>\n",
       "      <td>-</td>\n",
       "      <td>-</td>\n",
       "      <td>5</td>\n",
       "    </tr>\n",
       "    <tr>\n",
       "      <td>2</td>\n",
       "      <td>Rowlf the Dog</td>\n",
       "      <td>3</td>\n",
       "      <td>4</td>\n",
       "      <td>2</td>\n",
       "      <td>-</td>\n",
       "      <td>-</td>\n",
       "    </tr>\n",
       "    <tr>\n",
       "      <td>3</td>\n",
       "      <td>Gonzo</td>\n",
       "      <td>-</td>\n",
       "      <td>-</td>\n",
       "      <td>-</td>\n",
       "      <td>4</td>\n",
       "      <td>3</td>\n",
       "    </tr>\n",
       "    <tr>\n",
       "      <td>4</td>\n",
       "      <td>Miss Piggy</td>\n",
       "      <td>3</td>\n",
       "      <td>1</td>\n",
       "      <td>5</td>\n",
       "      <td>5</td>\n",
       "      <td>-</td>\n",
       "    </tr>\n",
       "  </tbody>\n",
       "</table>\n",
       "</div>"
      ],
      "text/plain": [
       "            muppet brie cheddar gouda roquefort swiss\n",
       "0           Fozzie    -       4     5         -     1\n",
       "1  Kermit the Frog    4       3     -         -     5\n",
       "2    Rowlf the Dog    3       4     2         -     -\n",
       "3            Gonzo    -       -     -         4     3\n",
       "4       Miss Piggy    3       1     5         5     -"
      ]
     },
     "execution_count": 3,
     "metadata": {},
     "output_type": "execute_result"
    }
   ],
   "source": [
    "mc[['muppet', 'brie', 'cheddar', 'gouda', 'roquefort', 'swiss']]"
   ]
  },
  {
   "cell_type": "markdown",
   "metadata": {},
   "source": [
    "For creating the ALS model in Spark, data would typically more resemble the following format, each row a record of a user-item interaction.  For Spark, you also need to make sure the user and item are numeric, they cannot be text. "
   ]
  },
  {
   "cell_type": "code",
   "execution_count": 4,
   "metadata": {},
   "outputs": [],
   "source": [
    "muppet_cheese_als = [\n",
    "    {'muppet': 1,'item':101, 'score': 5},\n",
    "    {'muppet': 1,'item': 201, 'score': 4},\n",
    "    {'muppet': 1,'item':401, 'score': 1},\n",
    "    {'muppet': 2,'item': 201, 'score': 3},\n",
    "    {'muppet': 2,'item': 301, 'score': 4},\n",
    "    {'muppet': 2,'item':401, 'score': 5},\n",
    "    {'muppet': 3,'item':101, 'score': 2},\n",
    "    {'muppet': 3,'item': 201, 'score': 4},\n",
    "    {'muppet': 3,'item': 301, 'score': 3},\n",
    "    {'muppet': 4,'item':401, 'score': 3},\n",
    "    {'muppet': 4,'item': 501, 'score': 4},\n",
    "    {'muppet': 5,'item':101, 'score': 5},\n",
    "    {'muppet': 5,'item': 201, 'score': 1},\n",
    "    {'muppet': 5,'item': 301, 'score': 3},\n",
    "    {'muppet': 5,'item': 501, 'score': 5},\n",
    "        ]\n",
    "muppet_cheese_als_df = pd.DataFrame(muppet_cheese_als)"
   ]
  },
  {
   "cell_type": "code",
   "execution_count": 5,
   "metadata": {},
   "outputs": [],
   "source": [
    "muppets = spark.createDataFrame(muppet_cheese_als_df)"
   ]
  },
  {
   "cell_type": "markdown",
   "metadata": {},
   "source": [
    "Typically, you would create train-test split to validate the results, but this is a small silly Muppet example, so we throw it all into our model:"
   ]
  },
  {
   "cell_type": "code",
   "execution_count": 6,
   "metadata": {},
   "outputs": [],
   "source": [
    "als = ALS(rank=10, regParam=.1, maxIter=20,\n",
    "          userCol='muppet', itemCol='item', \n",
    "          ratingCol='score', nonnegative=True)\n",
    "\n",
    "als_model = als.fit(muppets)"
   ]
  },
  {
   "cell_type": "markdown",
   "metadata": {},
   "source": [
    "Separating the items and user features to show what they look like:"
   ]
  },
  {
   "cell_type": "code",
   "execution_count": 7,
   "metadata": {},
   "outputs": [],
   "source": [
    "items = als_model.itemFactors.toPandas()\n",
    "users = als_model.userFactors.toPandas()"
   ]
  },
  {
   "cell_type": "code",
   "execution_count": 8,
   "metadata": {},
   "outputs": [
    {
     "data": {
      "text/html": [
       "<div>\n",
       "<style scoped>\n",
       "    .dataframe tbody tr th:only-of-type {\n",
       "        vertical-align: middle;\n",
       "    }\n",
       "\n",
       "    .dataframe tbody tr th {\n",
       "        vertical-align: top;\n",
       "    }\n",
       "\n",
       "    .dataframe thead th {\n",
       "        text-align: right;\n",
       "    }\n",
       "</style>\n",
       "<table border=\"1\" class=\"dataframe\">\n",
       "  <thead>\n",
       "    <tr style=\"text-align: right;\">\n",
       "      <th></th>\n",
       "      <th>cheese</th>\n",
       "      <th>1</th>\n",
       "      <th>2</th>\n",
       "      <th>3</th>\n",
       "      <th>4</th>\n",
       "      <th>5</th>\n",
       "      <th>6</th>\n",
       "      <th>7</th>\n",
       "      <th>8</th>\n",
       "      <th>9</th>\n",
       "      <th>10</th>\n",
       "    </tr>\n",
       "  </thead>\n",
       "  <tbody>\n",
       "    <tr>\n",
       "      <td>0</td>\n",
       "      <td>gouda</td>\n",
       "      <td>0.0</td>\n",
       "      <td>0.651199</td>\n",
       "      <td>1.812686</td>\n",
       "      <td>1.055743</td>\n",
       "      <td>0.000000</td>\n",
       "      <td>0.805005</td>\n",
       "      <td>0.164712</td>\n",
       "      <td>0.000000</td>\n",
       "      <td>0.000000</td>\n",
       "      <td>1.035070</td>\n",
       "    </tr>\n",
       "    <tr>\n",
       "      <td>1</td>\n",
       "      <td>cheddar</td>\n",
       "      <td>0.0</td>\n",
       "      <td>0.000000</td>\n",
       "      <td>0.576444</td>\n",
       "      <td>1.584922</td>\n",
       "      <td>0.460479</td>\n",
       "      <td>0.113503</td>\n",
       "      <td>0.449816</td>\n",
       "      <td>1.079774</td>\n",
       "      <td>0.095524</td>\n",
       "      <td>0.000000</td>\n",
       "    </tr>\n",
       "    <tr>\n",
       "      <td>2</td>\n",
       "      <td>brie</td>\n",
       "      <td>0.0</td>\n",
       "      <td>0.673650</td>\n",
       "      <td>0.819783</td>\n",
       "      <td>0.758670</td>\n",
       "      <td>0.434579</td>\n",
       "      <td>0.387765</td>\n",
       "      <td>0.248254</td>\n",
       "      <td>1.014423</td>\n",
       "      <td>0.089965</td>\n",
       "      <td>0.755413</td>\n",
       "    </tr>\n",
       "    <tr>\n",
       "      <td>3</td>\n",
       "      <td>swiss</td>\n",
       "      <td>0.0</td>\n",
       "      <td>1.009534</td>\n",
       "      <td>0.220818</td>\n",
       "      <td>0.000000</td>\n",
       "      <td>0.649082</td>\n",
       "      <td>0.235954</td>\n",
       "      <td>0.131635</td>\n",
       "      <td>1.506025</td>\n",
       "      <td>0.134003</td>\n",
       "      <td>0.941965</td>\n",
       "    </tr>\n",
       "    <tr>\n",
       "      <td>4</td>\n",
       "      <td>roquefort</td>\n",
       "      <td>0.0</td>\n",
       "      <td>1.124071</td>\n",
       "      <td>1.402186</td>\n",
       "      <td>0.208343</td>\n",
       "      <td>0.150048</td>\n",
       "      <td>0.758195</td>\n",
       "      <td>0.032496</td>\n",
       "      <td>0.347897</td>\n",
       "      <td>0.030967</td>\n",
       "      <td>1.405531</td>\n",
       "    </tr>\n",
       "  </tbody>\n",
       "</table>\n",
       "</div>"
      ],
      "text/plain": [
       "      cheese    1         2         3         4         5         6         7  \\\n",
       "0      gouda  0.0  0.651199  1.812686  1.055743  0.000000  0.805005  0.164712   \n",
       "1    cheddar  0.0  0.000000  0.576444  1.584922  0.460479  0.113503  0.449816   \n",
       "2       brie  0.0  0.673650  0.819783  0.758670  0.434579  0.387765  0.248254   \n",
       "3      swiss  0.0  1.009534  0.220818  0.000000  0.649082  0.235954  0.131635   \n",
       "4  roquefort  0.0  1.124071  1.402186  0.208343  0.150048  0.758195  0.032496   \n",
       "\n",
       "          8         9        10  \n",
       "0  0.000000  0.000000  1.035070  \n",
       "1  1.079774  0.095524  0.000000  \n",
       "2  1.014423  0.089965  0.755413  \n",
       "3  1.506025  0.134003  0.941965  \n",
       "4  0.347897  0.030967  1.405531  "
      ]
     },
     "execution_count": 8,
     "metadata": {},
     "output_type": "execute_result"
    }
   ],
   "source": [
    "# Item Features\n",
    "for i in range(10):\n",
    "    items[str(i + 1)] = items['features'].apply(lambda x: x[i])\n",
    "items['cheese'] = ['gouda', 'cheddar', 'brie', 'swiss', 'roquefort']\n",
    "#users['muppet'] = ['Fozzie', 'Kermit the Frog', 'Rowlf the Dog', 'Gonzo', 'Miss Piggy']\n",
    "items[['cheese', '1', '2', '3', '4', '5', '6', '7', '8', '9', '10']]"
   ]
  },
  {
   "cell_type": "code",
   "execution_count": 9,
   "metadata": {},
   "outputs": [
    {
     "data": {
      "text/html": [
       "<div>\n",
       "<style scoped>\n",
       "    .dataframe tbody tr th:only-of-type {\n",
       "        vertical-align: middle;\n",
       "    }\n",
       "\n",
       "    .dataframe tbody tr th {\n",
       "        vertical-align: top;\n",
       "    }\n",
       "\n",
       "    .dataframe thead th {\n",
       "        text-align: right;\n",
       "    }\n",
       "</style>\n",
       "<table border=\"1\" class=\"dataframe\">\n",
       "  <thead>\n",
       "    <tr style=\"text-align: right;\">\n",
       "      <th></th>\n",
       "      <th>muppet</th>\n",
       "      <th>1</th>\n",
       "      <th>2</th>\n",
       "      <th>3</th>\n",
       "      <th>4</th>\n",
       "      <th>5</th>\n",
       "      <th>6</th>\n",
       "      <th>7</th>\n",
       "      <th>8</th>\n",
       "      <th>9</th>\n",
       "      <th>10</th>\n",
       "    </tr>\n",
       "  </thead>\n",
       "  <tbody>\n",
       "    <tr>\n",
       "      <td>0</td>\n",
       "      <td>Fozzie</td>\n",
       "      <td>0.0</td>\n",
       "      <td>0.033114</td>\n",
       "      <td>1.321696</td>\n",
       "      <td>1.624912</td>\n",
       "      <td>0.085373</td>\n",
       "      <td>0.448752</td>\n",
       "      <td>0.341840</td>\n",
       "      <td>0.205471</td>\n",
       "      <td>0.017924</td>\n",
       "      <td>0.271322</td>\n",
       "    </tr>\n",
       "    <tr>\n",
       "      <td>1</td>\n",
       "      <td>Kermit the Frog</td>\n",
       "      <td>0.0</td>\n",
       "      <td>0.929531</td>\n",
       "      <td>0.402171</td>\n",
       "      <td>0.371168</td>\n",
       "      <td>0.670217</td>\n",
       "      <td>0.272178</td>\n",
       "      <td>0.217702</td>\n",
       "      <td>1.557829</td>\n",
       "      <td>0.138478</td>\n",
       "      <td>0.887746</td>\n",
       "    </tr>\n",
       "    <tr>\n",
       "      <td>2</td>\n",
       "      <td>Rowlf the Dog</td>\n",
       "      <td>0.0</td>\n",
       "      <td>0.131508</td>\n",
       "      <td>0.310402</td>\n",
       "      <td>1.186012</td>\n",
       "      <td>0.515610</td>\n",
       "      <td>0.047636</td>\n",
       "      <td>0.384975</td>\n",
       "      <td>1.207027</td>\n",
       "      <td>0.106879</td>\n",
       "      <td>0.070795</td>\n",
       "    </tr>\n",
       "    <tr>\n",
       "      <td>3</td>\n",
       "      <td>Gonzo</td>\n",
       "      <td>0.0</td>\n",
       "      <td>0.813947</td>\n",
       "      <td>0.768313</td>\n",
       "      <td>0.106355</td>\n",
       "      <td>0.230989</td>\n",
       "      <td>0.443168</td>\n",
       "      <td>0.047899</td>\n",
       "      <td>0.535821</td>\n",
       "      <td>0.047682</td>\n",
       "      <td>0.941555</td>\n",
       "    </tr>\n",
       "    <tr>\n",
       "      <td>4</td>\n",
       "      <td>Miss Piggy</td>\n",
       "      <td>0.0</td>\n",
       "      <td>0.831885</td>\n",
       "      <td>1.297370</td>\n",
       "      <td>0.202528</td>\n",
       "      <td>0.000525</td>\n",
       "      <td>0.674584</td>\n",
       "      <td>0.000000</td>\n",
       "      <td>0.000000</td>\n",
       "      <td>0.000009</td>\n",
       "      <td>1.120296</td>\n",
       "    </tr>\n",
       "  </tbody>\n",
       "</table>\n",
       "</div>"
      ],
      "text/plain": [
       "            muppet    1         2         3         4         5         6  \\\n",
       "0           Fozzie  0.0  0.033114  1.321696  1.624912  0.085373  0.448752   \n",
       "1  Kermit the Frog  0.0  0.929531  0.402171  0.371168  0.670217  0.272178   \n",
       "2    Rowlf the Dog  0.0  0.131508  0.310402  1.186012  0.515610  0.047636   \n",
       "3            Gonzo  0.0  0.813947  0.768313  0.106355  0.230989  0.443168   \n",
       "4       Miss Piggy  0.0  0.831885  1.297370  0.202528  0.000525  0.674584   \n",
       "\n",
       "          7         8         9        10  \n",
       "0  0.341840  0.205471  0.017924  0.271322  \n",
       "1  0.217702  1.557829  0.138478  0.887746  \n",
       "2  0.384975  1.207027  0.106879  0.070795  \n",
       "3  0.047899  0.535821  0.047682  0.941555  \n",
       "4  0.000000  0.000000  0.000009  1.120296  "
      ]
     },
     "execution_count": 9,
     "metadata": {},
     "output_type": "execute_result"
    }
   ],
   "source": [
    "# User Features\n",
    "for i in range(10):\n",
    "    users[str(i + 1)] = users['features'].apply(lambda x: x[i])\n",
    "users['muppet'] = ['Fozzie', 'Kermit the Frog', 'Rowlf the Dog', 'Gonzo', 'Miss Piggy']\n",
    "users[['muppet', '1', '2', '3', '4', '5', '6', '7', '8', '9', '10']]"
   ]
  },
  {
   "cell_type": "code",
   "execution_count": 10,
   "metadata": {},
   "outputs": [
    {
     "data": {
      "text/html": [
       "<div>\n",
       "<style scoped>\n",
       "    .dataframe tbody tr th:only-of-type {\n",
       "        vertical-align: middle;\n",
       "    }\n",
       "\n",
       "    .dataframe tbody tr th {\n",
       "        vertical-align: top;\n",
       "    }\n",
       "\n",
       "    .dataframe thead th {\n",
       "        text-align: right;\n",
       "    }\n",
       "</style>\n",
       "<table border=\"1\" class=\"dataframe\">\n",
       "  <thead>\n",
       "    <tr style=\"text-align: right;\">\n",
       "      <th></th>\n",
       "      <th>muppet</th>\n",
       "      <th>brie</th>\n",
       "      <th>cheddar</th>\n",
       "      <th>gouda</th>\n",
       "      <th>swiss</th>\n",
       "      <th>roquefort</th>\n",
       "    </tr>\n",
       "  </thead>\n",
       "  <tbody>\n",
       "    <tr>\n",
       "      <td>0</td>\n",
       "      <td>Fozzie</td>\n",
       "      <td>3.049565</td>\n",
       "      <td>3.804828</td>\n",
       "      <td>4.831264</td>\n",
       "      <td>1.099002</td>\n",
       "      <td>3.046574</td>\n",
       "    </tr>\n",
       "    <tr>\n",
       "      <td>1</td>\n",
       "      <td>Kermit the Frog</td>\n",
       "      <td>3.951685</td>\n",
       "      <td>2.952871</td>\n",
       "      <td>2.900019</td>\n",
       "      <td>4.756014</td>\n",
       "      <td>3.794116</td>\n",
       "    </tr>\n",
       "    <tr>\n",
       "      <td>2</td>\n",
       "      <td>Rowlf the Dog</td>\n",
       "      <td>2.868492</td>\n",
       "      <td>3.788194</td>\n",
       "      <td>2.075458</td>\n",
       "      <td>2.496714</td>\n",
       "      <td>1.478892</td>\n",
       "    </tr>\n",
       "    <tr>\n",
       "      <td>3</td>\n",
       "      <td>Gonzo</td>\n",
       "      <td>2.802075</td>\n",
       "      <td>1.372787</td>\n",
       "      <td>3.374253</td>\n",
       "      <td>2.952427</td>\n",
       "      <td>3.897904</td>\n",
       "    </tr>\n",
       "    <tr>\n",
       "      <td>4</td>\n",
       "      <td>Miss Piggy</td>\n",
       "      <td>2.885708</td>\n",
       "      <td>1.145661</td>\n",
       "      <td>4.809893</td>\n",
       "      <td>2.341090</td>\n",
       "      <td>4.882601</td>\n",
       "    </tr>\n",
       "  </tbody>\n",
       "</table>\n",
       "</div>"
      ],
      "text/plain": [
       "            muppet      brie   cheddar     gouda     swiss  roquefort\n",
       "0           Fozzie  3.049565  3.804828  4.831264  1.099002   3.046574\n",
       "1  Kermit the Frog  3.951685  2.952871  2.900019  4.756014   3.794116\n",
       "2    Rowlf the Dog  2.868492  3.788194  2.075458  2.496714   1.478892\n",
       "3            Gonzo  2.802075  1.372787  3.374253  2.952427   3.897904\n",
       "4       Miss Piggy  2.885708  1.145661  4.809893  2.341090   4.882601"
      ]
     },
     "execution_count": 10,
     "metadata": {},
     "output_type": "execute_result"
    }
   ],
   "source": [
    "# Combining User & Item features:\n",
    "for idx, cheese in enumerate(items['cheese'].tolist()):\n",
    "    users[cheese] = users['features'].apply(lambda x: np.dot(x, items['features'][idx]))\n",
    "users['muppet'] = ['Fozzie', 'Kermit the Frog', 'Rowlf the Dog', 'Gonzo', 'Miss Piggy']\n",
    "users[['muppet', 'brie', 'cheddar', 'gouda', 'swiss', 'roquefort']]"
   ]
  },
  {
   "cell_type": "markdown",
   "metadata": {},
   "source": [
    "We can now compare this matrix with the original to see what some of our best recommendations are:"
   ]
  },
  {
   "cell_type": "code",
   "execution_count": 11,
   "metadata": {},
   "outputs": [
    {
     "data": {
      "text/html": [
       "<div>\n",
       "<style scoped>\n",
       "    .dataframe tbody tr th:only-of-type {\n",
       "        vertical-align: middle;\n",
       "    }\n",
       "\n",
       "    .dataframe tbody tr th {\n",
       "        vertical-align: top;\n",
       "    }\n",
       "\n",
       "    .dataframe thead th {\n",
       "        text-align: right;\n",
       "    }\n",
       "</style>\n",
       "<table border=\"1\" class=\"dataframe\">\n",
       "  <thead>\n",
       "    <tr style=\"text-align: right;\">\n",
       "      <th></th>\n",
       "      <th>muppet</th>\n",
       "      <th>brie</th>\n",
       "      <th>cheddar</th>\n",
       "      <th>gouda</th>\n",
       "      <th>swiss</th>\n",
       "      <th>roquefort</th>\n",
       "    </tr>\n",
       "  </thead>\n",
       "  <tbody>\n",
       "    <tr>\n",
       "      <td>0</td>\n",
       "      <td>Fozzie</td>\n",
       "      <td>-</td>\n",
       "      <td>4</td>\n",
       "      <td>5</td>\n",
       "      <td>1</td>\n",
       "      <td>-</td>\n",
       "    </tr>\n",
       "    <tr>\n",
       "      <td>1</td>\n",
       "      <td>Kermit the Frog</td>\n",
       "      <td>4</td>\n",
       "      <td>3</td>\n",
       "      <td>-</td>\n",
       "      <td>5</td>\n",
       "      <td>-</td>\n",
       "    </tr>\n",
       "    <tr>\n",
       "      <td>2</td>\n",
       "      <td>Rowlf the Dog</td>\n",
       "      <td>3</td>\n",
       "      <td>4</td>\n",
       "      <td>2</td>\n",
       "      <td>-</td>\n",
       "      <td>-</td>\n",
       "    </tr>\n",
       "    <tr>\n",
       "      <td>3</td>\n",
       "      <td>Gonzo</td>\n",
       "      <td>-</td>\n",
       "      <td>-</td>\n",
       "      <td>-</td>\n",
       "      <td>3</td>\n",
       "      <td>4</td>\n",
       "    </tr>\n",
       "    <tr>\n",
       "      <td>4</td>\n",
       "      <td>Miss Piggy</td>\n",
       "      <td>3</td>\n",
       "      <td>1</td>\n",
       "      <td>5</td>\n",
       "      <td>-</td>\n",
       "      <td>5</td>\n",
       "    </tr>\n",
       "  </tbody>\n",
       "</table>\n",
       "</div>"
      ],
      "text/plain": [
       "            muppet brie cheddar gouda swiss roquefort\n",
       "0           Fozzie    -       4     5     1         -\n",
       "1  Kermit the Frog    4       3     -     5         -\n",
       "2    Rowlf the Dog    3       4     2     -         -\n",
       "3            Gonzo    -       -     -     3         4\n",
       "4       Miss Piggy    3       1     5     -         5"
      ]
     },
     "execution_count": 11,
     "metadata": {},
     "output_type": "execute_result"
    }
   ],
   "source": [
    "mc[['muppet', 'brie', 'cheddar', 'gouda', 'swiss', 'roquefort']]"
   ]
  },
  {
   "cell_type": "markdown",
   "metadata": {},
   "source": [
    "Next, we can walk through using these features to get recommendations for a new user without re-running the model. First, we get the item features for the items we have ratings for (in this scenario, gouda & cheddar):"
   ]
  },
  {
   "cell_type": "code",
   "execution_count": 12,
   "metadata": {},
   "outputs": [],
   "source": [
    "select_cheese = items.iloc[0:2, 2:12].to_numpy()"
   ]
  },
  {
   "cell_type": "code",
   "execution_count": 13,
   "metadata": {},
   "outputs": [
    {
     "data": {
      "text/plain": [
       "(2, 10)"
      ]
     },
     "execution_count": 13,
     "metadata": {},
     "output_type": "execute_result"
    }
   ],
   "source": [
    "select_cheese.shape"
   ]
  },
  {
   "cell_type": "markdown",
   "metadata": {},
   "source": [
    "The legendary Muppet Dr. Teeth has rated both of these cheeses very highly. We put those score in an array of the corresponding amount of rows:"
   ]
  },
  {
   "cell_type": "code",
   "execution_count": 14,
   "metadata": {},
   "outputs": [
    {
     "data": {
      "text/plain": [
       "(2, 1)"
      ]
     },
     "execution_count": 14,
     "metadata": {},
     "output_type": "execute_result"
    }
   ],
   "source": [
    "dr_teeth = np.array([[5],[5]])\n",
    "dr_teeth.shape"
   ]
  },
  {
   "cell_type": "markdown",
   "metadata": {},
   "source": [
    "We then do the linear algebra to take our known ratings and know item features to return a full set of user features:"
   ]
  },
  {
   "cell_type": "code",
   "execution_count": 15,
   "metadata": {},
   "outputs": [
    {
     "data": {
      "text/plain": [
       "array([0.        , 0.24345039, 1.18610604, 1.79262076, 0.40615101,\n",
       "       0.40106219, 0.45832383, 0.95238176, 0.08425429, 0.38696028])"
      ]
     },
     "execution_count": 15,
     "metadata": {},
     "output_type": "execute_result"
    }
   ],
   "source": [
    "dr_teeth_features = np.linalg.lstsq(select_cheese, dr_teeth, rcond=None)\n",
    "dr_teeth_features = dr_teeth_features[0].reshape((10,))\n",
    "dr_teeth_features"
   ]
  },
  {
   "cell_type": "markdown",
   "metadata": {},
   "source": [
    "Tada! Now we can use these features to get a full set of recommendations by matrix multiplication with all the item features:"
   ]
  },
  {
   "cell_type": "code",
   "execution_count": 16,
   "metadata": {},
   "outputs": [
    {
     "name": "stdout",
     "output_type": "stream",
     "text": [
      "('gouda', 5.000000000000002)\n",
      "('cheddar', 4.999999999999999)\n",
      "('brie', 4.208173968183433)\n",
      "('swiss', 2.736376971886836)\n",
      "('roquefort', 3.5680200534574915)\n"
     ]
    }
   ],
   "source": [
    "dr_teeth_scores = [np.dot(dr_teeth_features, row) for row in items.iloc[:, 2:12].to_numpy()]\n",
    "for row in zip(items['cheese'], dr_teeth_scores):\n",
    "    print(row)"
   ]
  }
 ],
 "metadata": {
  "kernelspec": {
   "display_name": "Python 3",
   "language": "python",
   "name": "python3"
  },
  "language_info": {
   "codemirror_mode": {
    "name": "ipython",
    "version": 3
   },
   "file_extension": ".py",
   "mimetype": "text/x-python",
   "name": "python",
   "nbconvert_exporter": "python",
   "pygments_lexer": "ipython3",
   "version": "3.7.1"
  }
 },
 "nbformat": 4,
 "nbformat_minor": 2
}
