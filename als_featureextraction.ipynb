{
 "cells": [
  {
   "cell_type": "code",
   "execution_count": 1,
   "metadata": {},
   "outputs": [],
   "source": [
    "import pandas as pd\n",
    "import numpy as np\n",
    "import pyspark\n",
    "from pyspark.ml.recommendation import ALS\n",
    "\n",
    "spark = (pyspark.sql.SparkSession.builder\n",
    "    .master(\"local\")\n",
    "    .getOrCreate())"
   ]
  },
  {
   "cell_type": "markdown",
   "metadata": {},
   "source": [
    "For this example, first just a quick visual of a sparse user-item matrix, commonly what is used in recommendation systems.  This is a completely fictious one to recommend cheese to Muppets. Use whatever two things come to mind first! As you can see all users have rated something, but we have many unknowns."
   ]
  },
  {
   "cell_type": "code",
   "execution_count": 14,
   "metadata": {},
   "outputs": [],
   "source": [
    "muppet_cheese = [\n",
    "{'muppet': 'Fozzie','gouda': 5, 'cheddar': 4,\n",
    " 'brie': '-', 'swiss': 1, 'roquefort': '-'},\n",
    "{'muppet': 'Kermit the Frog', 'gouda': '-', 'cheddar': 3,\n",
    " 'brie': 4, 'swiss': 5, 'roquefort': '-'},\n",
    "{'muppet': 'Rowlf the Dog', 'gouda': 2, 'cheddar': 4,\n",
    " 'brie': 3, 'swiss': '-', 'roquefort': '-'},\n",
    "{'muppet': 'Gonzo', 'gouda': '-', 'cheddar': '-',\n",
    " 'brie': '-', 'swiss': 3, 'roquefort': 4},\n",
    "{'muppet': 'Miss Piggy', 'gouda': 5, 'cheddar': 1,\n",
    " 'brie': 3, 'swiss': '-', 'roquefort': 5}\n",
    "        ]\n",
    "\n",
    "mc = pd.DataFrame(muppet_cheese)"
   ]
  },
  {
   "cell_type": "code",
   "execution_count": 6,
   "metadata": {},
   "outputs": [
    {
     "data": {
      "text/html": [
       "<div>\n",
       "<style scoped>\n",
       "    .dataframe tbody tr th:only-of-type {\n",
       "        vertical-align: middle;\n",
       "    }\n",
       "\n",
       "    .dataframe tbody tr th {\n",
       "        vertical-align: top;\n",
       "    }\n",
       "\n",
       "    .dataframe thead th {\n",
       "        text-align: right;\n",
       "    }\n",
       "</style>\n",
       "<table border=\"1\" class=\"dataframe\">\n",
       "  <thead>\n",
       "    <tr style=\"text-align: right;\">\n",
       "      <th></th>\n",
       "      <th>muppet</th>\n",
       "      <th>brie</th>\n",
       "      <th>cheddar</th>\n",
       "      <th>gouda</th>\n",
       "      <th>roquefort</th>\n",
       "      <th>swiss</th>\n",
       "    </tr>\n",
       "  </thead>\n",
       "  <tbody>\n",
       "    <tr>\n",
       "      <td>0</td>\n",
       "      <td>Fozzie</td>\n",
       "      <td>-</td>\n",
       "      <td>4</td>\n",
       "      <td>5</td>\n",
       "      <td>-</td>\n",
       "      <td>1</td>\n",
       "    </tr>\n",
       "    <tr>\n",
       "      <td>1</td>\n",
       "      <td>Kermit the Frog</td>\n",
       "      <td>4</td>\n",
       "      <td>3</td>\n",
       "      <td>-</td>\n",
       "      <td>-</td>\n",
       "      <td>5</td>\n",
       "    </tr>\n",
       "    <tr>\n",
       "      <td>2</td>\n",
       "      <td>Rowlf the Dog</td>\n",
       "      <td>3</td>\n",
       "      <td>4</td>\n",
       "      <td>2</td>\n",
       "      <td>-</td>\n",
       "      <td>-</td>\n",
       "    </tr>\n",
       "    <tr>\n",
       "      <td>3</td>\n",
       "      <td>Gonzo</td>\n",
       "      <td>-</td>\n",
       "      <td>-</td>\n",
       "      <td>-</td>\n",
       "      <td>4</td>\n",
       "      <td>3</td>\n",
       "    </tr>\n",
       "    <tr>\n",
       "      <td>4</td>\n",
       "      <td>Miss Piggy</td>\n",
       "      <td>3</td>\n",
       "      <td>1</td>\n",
       "      <td>5</td>\n",
       "      <td>5</td>\n",
       "      <td>-</td>\n",
       "    </tr>\n",
       "  </tbody>\n",
       "</table>\n",
       "</div>"
      ],
      "text/plain": [
       "            muppet brie cheddar gouda roquefort swiss\n",
       "0           Fozzie    -       4     5         -     1\n",
       "1  Kermit the Frog    4       3     -         -     5\n",
       "2    Rowlf the Dog    3       4     2         -     -\n",
       "3            Gonzo    -       -     -         4     3\n",
       "4       Miss Piggy    3       1     5         5     -"
      ]
     },
     "execution_count": 6,
     "metadata": {},
     "output_type": "execute_result"
    }
   ],
   "source": [
    "mc[['muppet', 'brie', 'cheddar', 'gouda', 'roquefort', 'swiss']]"
   ]
  },
  {
   "cell_type": "markdown",
   "metadata": {},
   "source": [
    "For creating the ALS model in Spark, data would typically more resemble the following format, each row a record of a user-item interaction.  For Spark, you also need to make sure the user and item are numeric, they cannot be text. "
   ]
  },
  {
   "cell_type": "code",
   "execution_count": 12,
   "metadata": {},
   "outputs": [],
   "source": [
    "muppet_cheese_als = [\n",
    "    {'muppet': 1,'item':101, 'score': 5},\n",
    "    {'muppet': 1,'item': 201, 'score': 4},\n",
    "    {'muppet': 1,'item':401, 'score': 1},\n",
    "    {'muppet': 2,'item': 201, 'score': 3},\n",
    "    {'muppet': 2,'item': 301, 'score': 4},\n",
    "    {'muppet': 2,'item':401, 'score': 5},\n",
    "    {'muppet': 3,'item':101, 'score': 2},\n",
    "    {'muppet': 3,'item': 201, 'score': 4},\n",
    "    {'muppet': 3,'item': 301, 'score': 3},\n",
    "    {'muppet': 4,'item':401, 'score': 3},\n",
    "    {'muppet': 4,'item': 501, 'score': 4},\n",
    "    {'muppet': 5,'item':101, 'score': 5},\n",
    "    {'muppet': 5,'item': 201, 'score': 1},\n",
    "    {'muppet': 5,'item': 301, 'score': 3},\n",
    "    {'muppet': 5,'item': 501, 'score': 5},\n",
    "        ]\n",
    "muppet_cheese_als_df = pd.DataFrame(muppet_cheese_als)"
   ]
  },
  {
   "cell_type": "code",
   "execution_count": 13,
   "metadata": {},
   "outputs": [],
   "source": [
    "muppets = spark.createDataFrame(muppet_cheese_als_df)"
   ]
  },
  {
   "cell_type": "markdown",
   "metadata": {},
   "source": [
    "Typically, you would create train-test split to validate the results, but this is a small silly Muppet example, so we throw it all into our model:"
   ]
  },
  {
   "cell_type": "code",
   "execution_count": 16,
   "metadata": {},
   "outputs": [],
   "source": [
    "als = ALS(rank=10, regParam=.1, maxIter=20,\n",
    "          userCol='muppet', itemCol='item', \n",
    "          ratingCol='score', nonnegative=True)\n",
    "\n",
    "als_model = als.fit(muppets)"
   ]
  },
  {
   "cell_type": "markdown",
   "metadata": {},
   "source": [
    "Separating the items and user features to show what they look like:"
   ]
  },
  {
   "cell_type": "code",
   "execution_count": 19,
   "metadata": {},
   "outputs": [],
   "source": [
    "items = als_model.itemFactors.toPandas()\n",
    "users = als_model.userFactors.toPandas()"
   ]
  },
  {
   "cell_type": "code",
   "execution_count": 20,
   "metadata": {},
   "outputs": [
    {
     "data": {
      "text/html": [
       "<div>\n",
       "<style scoped>\n",
       "    .dataframe tbody tr th:only-of-type {\n",
       "        vertical-align: middle;\n",
       "    }\n",
       "\n",
       "    .dataframe tbody tr th {\n",
       "        vertical-align: top;\n",
       "    }\n",
       "\n",
       "    .dataframe thead th {\n",
       "        text-align: right;\n",
       "    }\n",
       "</style>\n",
       "<table border=\"1\" class=\"dataframe\">\n",
       "  <thead>\n",
       "    <tr style=\"text-align: right;\">\n",
       "      <th></th>\n",
       "      <th>cheese</th>\n",
       "      <th>1</th>\n",
       "      <th>2</th>\n",
       "      <th>3</th>\n",
       "      <th>4</th>\n",
       "      <th>5</th>\n",
       "      <th>6</th>\n",
       "      <th>7</th>\n",
       "      <th>8</th>\n",
       "      <th>9</th>\n",
       "      <th>10</th>\n",
       "    </tr>\n",
       "  </thead>\n",
       "  <tbody>\n",
       "    <tr>\n",
       "      <td>0</td>\n",
       "      <td>gouda</td>\n",
       "      <td>0.000000</td>\n",
       "      <td>1.833550</td>\n",
       "      <td>0.311505</td>\n",
       "      <td>0.304448</td>\n",
       "      <td>1.437197</td>\n",
       "      <td>0.770893</td>\n",
       "      <td>0.000000</td>\n",
       "      <td>0.0</td>\n",
       "      <td>0.538740</td>\n",
       "      <td>0.0</td>\n",
       "    </tr>\n",
       "    <tr>\n",
       "      <td>1</td>\n",
       "      <td>cheddar</td>\n",
       "      <td>0.520016</td>\n",
       "      <td>0.000000</td>\n",
       "      <td>0.083390</td>\n",
       "      <td>0.000000</td>\n",
       "      <td>1.169730</td>\n",
       "      <td>0.416471</td>\n",
       "      <td>0.693999</td>\n",
       "      <td>0.0</td>\n",
       "      <td>1.449831</td>\n",
       "      <td>0.0</td>\n",
       "    </tr>\n",
       "    <tr>\n",
       "      <td>2</td>\n",
       "      <td>brie</td>\n",
       "      <td>0.590940</td>\n",
       "      <td>0.989227</td>\n",
       "      <td>0.486651</td>\n",
       "      <td>0.246948</td>\n",
       "      <td>0.750923</td>\n",
       "      <td>0.340505</td>\n",
       "      <td>0.857241</td>\n",
       "      <td>0.0</td>\n",
       "      <td>0.771576</td>\n",
       "      <td>0.0</td>\n",
       "    </tr>\n",
       "    <tr>\n",
       "      <td>3</td>\n",
       "      <td>swiss</td>\n",
       "      <td>0.970373</td>\n",
       "      <td>0.903034</td>\n",
       "      <td>0.799617</td>\n",
       "      <td>0.340711</td>\n",
       "      <td>0.000000</td>\n",
       "      <td>0.000000</td>\n",
       "      <td>1.426155</td>\n",
       "      <td>0.0</td>\n",
       "      <td>0.338520</td>\n",
       "      <td>0.0</td>\n",
       "    </tr>\n",
       "    <tr>\n",
       "      <td>4</td>\n",
       "      <td>roquefort</td>\n",
       "      <td>0.284505</td>\n",
       "      <td>2.062847</td>\n",
       "      <td>0.674279</td>\n",
       "      <td>0.453092</td>\n",
       "      <td>0.688684</td>\n",
       "      <td>0.452625</td>\n",
       "      <td>0.494089</td>\n",
       "      <td>0.0</td>\n",
       "      <td>0.083563</td>\n",
       "      <td>0.0</td>\n",
       "    </tr>\n",
       "  </tbody>\n",
       "</table>\n",
       "</div>"
      ],
      "text/plain": [
       "      cheese         1         2         3         4         5         6  \\\n",
       "0      gouda  0.000000  1.833550  0.311505  0.304448  1.437197  0.770893   \n",
       "1    cheddar  0.520016  0.000000  0.083390  0.000000  1.169730  0.416471   \n",
       "2       brie  0.590940  0.989227  0.486651  0.246948  0.750923  0.340505   \n",
       "3      swiss  0.970373  0.903034  0.799617  0.340711  0.000000  0.000000   \n",
       "4  roquefort  0.284505  2.062847  0.674279  0.453092  0.688684  0.452625   \n",
       "\n",
       "          7    8         9   10  \n",
       "0  0.000000  0.0  0.538740  0.0  \n",
       "1  0.693999  0.0  1.449831  0.0  \n",
       "2  0.857241  0.0  0.771576  0.0  \n",
       "3  1.426155  0.0  0.338520  0.0  \n",
       "4  0.494089  0.0  0.083563  0.0  "
      ]
     },
     "execution_count": 20,
     "metadata": {},
     "output_type": "execute_result"
    }
   ],
   "source": [
    "# Item Features\n",
    "for i in range(10):\n",
    "    items[str(i + 1)] = items['features'].apply(lambda x: x[i])\n",
    "items['cheese'] = ['gouda', 'cheddar', 'brie', 'swiss', 'roquefort']\n",
    "#users['muppet'] = ['Fozzie', 'Kermit the Frog', 'Rowlf the Dog', 'Gonzo', 'Miss Piggy']\n",
    "items[['cheese', '1', '2', '3', '4', '5', '6', '7', '8', '9', '10']]"
   ]
  },
  {
   "cell_type": "code",
   "execution_count": 22,
   "metadata": {},
   "outputs": [
    {
     "data": {
      "text/html": [
       "<div>\n",
       "<style scoped>\n",
       "    .dataframe tbody tr th:only-of-type {\n",
       "        vertical-align: middle;\n",
       "    }\n",
       "\n",
       "    .dataframe tbody tr th {\n",
       "        vertical-align: top;\n",
       "    }\n",
       "\n",
       "    .dataframe thead th {\n",
       "        text-align: right;\n",
       "    }\n",
       "</style>\n",
       "<table border=\"1\" class=\"dataframe\">\n",
       "  <thead>\n",
       "    <tr style=\"text-align: right;\">\n",
       "      <th></th>\n",
       "      <th>muppet</th>\n",
       "      <th>1</th>\n",
       "      <th>2</th>\n",
       "      <th>3</th>\n",
       "      <th>4</th>\n",
       "      <th>5</th>\n",
       "      <th>6</th>\n",
       "      <th>7</th>\n",
       "      <th>8</th>\n",
       "      <th>9</th>\n",
       "      <th>10</th>\n",
       "    </tr>\n",
       "  </thead>\n",
       "  <tbody>\n",
       "    <tr>\n",
       "      <td>0</td>\n",
       "      <td>Fozzie</td>\n",
       "      <td>0.016609</td>\n",
       "      <td>0.749777</td>\n",
       "      <td>0.000000</td>\n",
       "      <td>0.061349</td>\n",
       "      <td>1.581885</td>\n",
       "      <td>0.711459</td>\n",
       "      <td>0.000000</td>\n",
       "      <td>0.0</td>\n",
       "      <td>1.137922</td>\n",
       "      <td>0.0</td>\n",
       "    </tr>\n",
       "    <tr>\n",
       "      <td>1</td>\n",
       "      <td>Kermit the Frog</td>\n",
       "      <td>0.984344</td>\n",
       "      <td>0.910427</td>\n",
       "      <td>0.753244</td>\n",
       "      <td>0.321800</td>\n",
       "      <td>0.325052</td>\n",
       "      <td>0.128301</td>\n",
       "      <td>1.432978</td>\n",
       "      <td>0.0</td>\n",
       "      <td>0.653109</td>\n",
       "      <td>0.0</td>\n",
       "    </tr>\n",
       "    <tr>\n",
       "      <td>2</td>\n",
       "      <td>Rowlf the Dog</td>\n",
       "      <td>0.633099</td>\n",
       "      <td>0.000000</td>\n",
       "      <td>0.195157</td>\n",
       "      <td>0.031192</td>\n",
       "      <td>0.798141</td>\n",
       "      <td>0.249949</td>\n",
       "      <td>0.875324</td>\n",
       "      <td>0.0</td>\n",
       "      <td>1.238229</td>\n",
       "      <td>0.0</td>\n",
       "    </tr>\n",
       "    <tr>\n",
       "      <td>3</td>\n",
       "      <td>Gonzo</td>\n",
       "      <td>0.379911</td>\n",
       "      <td>1.275077</td>\n",
       "      <td>0.538478</td>\n",
       "      <td>0.314408</td>\n",
       "      <td>0.352955</td>\n",
       "      <td>0.231973</td>\n",
       "      <td>0.597281</td>\n",
       "      <td>0.0</td>\n",
       "      <td>0.124494</td>\n",
       "      <td>0.0</td>\n",
       "    </tr>\n",
       "    <tr>\n",
       "      <td>4</td>\n",
       "      <td>Miss Piggy</td>\n",
       "      <td>0.066662</td>\n",
       "      <td>1.771649</td>\n",
       "      <td>0.460284</td>\n",
       "      <td>0.351409</td>\n",
       "      <td>0.674145</td>\n",
       "      <td>0.445800</td>\n",
       "      <td>0.143247</td>\n",
       "      <td>0.0</td>\n",
       "      <td>0.000000</td>\n",
       "      <td>0.0</td>\n",
       "    </tr>\n",
       "  </tbody>\n",
       "</table>\n",
       "</div>"
      ],
      "text/plain": [
       "            muppet         1         2         3         4         5  \\\n",
       "0           Fozzie  0.016609  0.749777  0.000000  0.061349  1.581885   \n",
       "1  Kermit the Frog  0.984344  0.910427  0.753244  0.321800  0.325052   \n",
       "2    Rowlf the Dog  0.633099  0.000000  0.195157  0.031192  0.798141   \n",
       "3            Gonzo  0.379911  1.275077  0.538478  0.314408  0.352955   \n",
       "4       Miss Piggy  0.066662  1.771649  0.460284  0.351409  0.674145   \n",
       "\n",
       "          6         7    8         9   10  \n",
       "0  0.711459  0.000000  0.0  1.137922  0.0  \n",
       "1  0.128301  1.432978  0.0  0.653109  0.0  \n",
       "2  0.249949  0.875324  0.0  1.238229  0.0  \n",
       "3  0.231973  0.597281  0.0  0.124494  0.0  \n",
       "4  0.445800  0.143247  0.0  0.000000  0.0  "
      ]
     },
     "execution_count": 22,
     "metadata": {},
     "output_type": "execute_result"
    }
   ],
   "source": [
    "# User Features\n",
    "for i in range(10):\n",
    "    users[str(i + 1)] = users['features'].apply(lambda x: x[i])\n",
    "users['muppet'] = ['Fozzie', 'Kermit the Frog', 'Rowlf the Dog', 'Gonzo', 'Miss Piggy']\n",
    "users[['muppet', '1', '2', '3', '4', '5', '6', '7', '8', '9', '10']]"
   ]
  },
  {
   "cell_type": "code",
   "execution_count": 24,
   "metadata": {},
   "outputs": [
    {
     "data": {
      "text/html": [
       "<div>\n",
       "<style scoped>\n",
       "    .dataframe tbody tr th:only-of-type {\n",
       "        vertical-align: middle;\n",
       "    }\n",
       "\n",
       "    .dataframe tbody tr th {\n",
       "        vertical-align: top;\n",
       "    }\n",
       "\n",
       "    .dataframe thead th {\n",
       "        text-align: right;\n",
       "    }\n",
       "</style>\n",
       "<table border=\"1\" class=\"dataframe\">\n",
       "  <thead>\n",
       "    <tr style=\"text-align: right;\">\n",
       "      <th></th>\n",
       "      <th>muppet</th>\n",
       "      <th>brie</th>\n",
       "      <th>cheddar</th>\n",
       "      <th>gouda</th>\n",
       "      <th>swiss</th>\n",
       "      <th>roquefort</th>\n",
       "    </tr>\n",
       "  </thead>\n",
       "  <tbody>\n",
       "    <tr>\n",
       "      <td>0</td>\n",
       "      <td>Fozzie</td>\n",
       "      <td>3.074786</td>\n",
       "      <td>3.805113</td>\n",
       "      <td>4.828416</td>\n",
       "      <td>1.099304</td>\n",
       "      <td>3.085729</td>\n",
       "    </tr>\n",
       "    <tr>\n",
       "      <td>1</td>\n",
       "      <td>Kermit the Frog</td>\n",
       "      <td>3.948450</td>\n",
       "      <td>2.949727</td>\n",
       "      <td>2.919851</td>\n",
       "      <td>4.754015</td>\n",
       "      <td>3.856349</td>\n",
       "    </tr>\n",
       "    <tr>\n",
       "      <td>2</td>\n",
       "      <td>Rowlf the Dog</td>\n",
       "      <td>2.867002</td>\n",
       "      <td>3.785899</td>\n",
       "      <td>2.077143</td>\n",
       "      <td>2.448535</td>\n",
       "      <td>1.524602</td>\n",
       "    </tr>\n",
       "    <tr>\n",
       "      <td>3</td>\n",
       "      <td>Gonzo</td>\n",
       "      <td>2.777639</td>\n",
       "      <td>1.346943</td>\n",
       "      <td>3.354538</td>\n",
       "      <td>2.951750</td>\n",
       "      <td>3.897499</td>\n",
       "    </tr>\n",
       "    <tr>\n",
       "      <td>4</td>\n",
       "      <td>Miss Piggy</td>\n",
       "      <td>2.883558</td>\n",
       "      <td>1.146691</td>\n",
       "      <td>4.811316</td>\n",
       "      <td>2.356618</td>\n",
       "      <td>4.880015</td>\n",
       "    </tr>\n",
       "  </tbody>\n",
       "</table>\n",
       "</div>"
      ],
      "text/plain": [
       "            muppet      brie   cheddar     gouda     swiss  roquefort\n",
       "0           Fozzie  3.074786  3.805113  4.828416  1.099304   3.085729\n",
       "1  Kermit the Frog  3.948450  2.949727  2.919851  4.754015   3.856349\n",
       "2    Rowlf the Dog  2.867002  3.785899  2.077143  2.448535   1.524602\n",
       "3            Gonzo  2.777639  1.346943  3.354538  2.951750   3.897499\n",
       "4       Miss Piggy  2.883558  1.146691  4.811316  2.356618   4.880015"
      ]
     },
     "execution_count": 24,
     "metadata": {},
     "output_type": "execute_result"
    }
   ],
   "source": [
    "# Combining User & Item features:\n",
    "for idx, cheese in enumerate(items['cheese'].tolist()):\n",
    "    users[cheese] = users['features'].apply(lambda x: np.dot(x, items['features'][idx]))\n",
    "users['muppet'] = ['Fozzie', 'Kermit the Frog', 'Rowlf the Dog', 'Gonzo', 'Miss Piggy']\n",
    "users[['muppet', 'brie', 'cheddar', 'gouda', 'swiss', 'roquefort']]"
   ]
  },
  {
   "cell_type": "markdown",
   "metadata": {},
   "source": [
    "We can now compare this matrix with the original to see what some of our best recommendations are:"
   ]
  },
  {
   "cell_type": "code",
   "execution_count": 26,
   "metadata": {},
   "outputs": [
    {
     "data": {
      "text/html": [
       "<div>\n",
       "<style scoped>\n",
       "    .dataframe tbody tr th:only-of-type {\n",
       "        vertical-align: middle;\n",
       "    }\n",
       "\n",
       "    .dataframe tbody tr th {\n",
       "        vertical-align: top;\n",
       "    }\n",
       "\n",
       "    .dataframe thead th {\n",
       "        text-align: right;\n",
       "    }\n",
       "</style>\n",
       "<table border=\"1\" class=\"dataframe\">\n",
       "  <thead>\n",
       "    <tr style=\"text-align: right;\">\n",
       "      <th></th>\n",
       "      <th>muppet</th>\n",
       "      <th>brie</th>\n",
       "      <th>cheddar</th>\n",
       "      <th>gouda</th>\n",
       "      <th>swiss</th>\n",
       "      <th>roquefort</th>\n",
       "    </tr>\n",
       "  </thead>\n",
       "  <tbody>\n",
       "    <tr>\n",
       "      <td>0</td>\n",
       "      <td>Fozzie</td>\n",
       "      <td>-</td>\n",
       "      <td>4</td>\n",
       "      <td>5</td>\n",
       "      <td>1</td>\n",
       "      <td>-</td>\n",
       "    </tr>\n",
       "    <tr>\n",
       "      <td>1</td>\n",
       "      <td>Kermit the Frog</td>\n",
       "      <td>4</td>\n",
       "      <td>3</td>\n",
       "      <td>-</td>\n",
       "      <td>5</td>\n",
       "      <td>-</td>\n",
       "    </tr>\n",
       "    <tr>\n",
       "      <td>2</td>\n",
       "      <td>Rowlf the Dog</td>\n",
       "      <td>3</td>\n",
       "      <td>4</td>\n",
       "      <td>2</td>\n",
       "      <td>-</td>\n",
       "      <td>-</td>\n",
       "    </tr>\n",
       "    <tr>\n",
       "      <td>3</td>\n",
       "      <td>Gonzo</td>\n",
       "      <td>-</td>\n",
       "      <td>-</td>\n",
       "      <td>-</td>\n",
       "      <td>3</td>\n",
       "      <td>4</td>\n",
       "    </tr>\n",
       "    <tr>\n",
       "      <td>4</td>\n",
       "      <td>Miss Piggy</td>\n",
       "      <td>3</td>\n",
       "      <td>1</td>\n",
       "      <td>5</td>\n",
       "      <td>-</td>\n",
       "      <td>5</td>\n",
       "    </tr>\n",
       "  </tbody>\n",
       "</table>\n",
       "</div>"
      ],
      "text/plain": [
       "            muppet brie cheddar gouda swiss roquefort\n",
       "0           Fozzie    -       4     5     1         -\n",
       "1  Kermit the Frog    4       3     -     5         -\n",
       "2    Rowlf the Dog    3       4     2     -         -\n",
       "3            Gonzo    -       -     -     3         4\n",
       "4       Miss Piggy    3       1     5     -         5"
      ]
     },
     "execution_count": 26,
     "metadata": {},
     "output_type": "execute_result"
    }
   ],
   "source": [
    "mc[['muppet', 'brie', 'cheddar', 'gouda', 'swiss', 'roquefort']]"
   ]
  },
  {
   "cell_type": "markdown",
   "metadata": {},
   "source": [
    "Next, we can walk through using these features to get recommendations for a new user without re-running the model. First, we get the item features for the items we have ratings for (in this scenario, gouda & cheddar):"
   ]
  },
  {
   "cell_type": "code",
   "execution_count": 27,
   "metadata": {},
   "outputs": [],
   "source": [
    "select_cheese = items.iloc[0:2, 2:12].to_numpy()"
   ]
  },
  {
   "cell_type": "code",
   "execution_count": 29,
   "metadata": {},
   "outputs": [
    {
     "data": {
      "text/plain": [
       "(2, 10)"
      ]
     },
     "execution_count": 29,
     "metadata": {},
     "output_type": "execute_result"
    }
   ],
   "source": [
    "select_cheese.shape"
   ]
  },
  {
   "cell_type": "markdown",
   "metadata": {},
   "source": [
    "The legendary Muppet Dr. Teeth has rated both of these cheeses very highly. We put those score in an array of the corresponding amount of rows:"
   ]
  },
  {
   "cell_type": "code",
   "execution_count": 30,
   "metadata": {},
   "outputs": [
    {
     "data": {
      "text/plain": [
       "(2, 1)"
      ]
     },
     "execution_count": 30,
     "metadata": {},
     "output_type": "execute_result"
    }
   ],
   "source": [
    "dr_teeth = np.array([[5],[5]])\n",
    "dr_teeth.shape"
   ]
  },
  {
   "cell_type": "markdown",
   "metadata": {},
   "source": [
    "We then do the linear algebra to take our known ratings and know item features to return a full set of user features:"
   ]
  },
  {
   "cell_type": "code",
   "execution_count": 31,
   "metadata": {},
   "outputs": [
    {
     "data": {
      "text/plain": [
       "array([0.46305335, 0.70459949, 0.19396104, 0.1169939 , 1.5938869 ,\n",
       "       0.66709078, 0.61797834, 0.        , 1.49804521, 0.        ])"
      ]
     },
     "execution_count": 31,
     "metadata": {},
     "output_type": "execute_result"
    }
   ],
   "source": [
    "dr_teeth_features = np.linalg.lstsq(select_cheese, dr_teeth, rcond=None)\n",
    "dr_teeth_features = dr_teeth_features[0].reshape((10,))\n",
    "dr_teeth_features"
   ]
  },
  {
   "cell_type": "markdown",
   "metadata": {},
   "source": [
    "Tada! Now we can use these features to get a full set of recommendations by matrix multiplication with all the item features:"
   ]
  },
  {
   "cell_type": "code",
   "execution_count": 32,
   "metadata": {},
   "outputs": [
    {
     "name": "stdout",
     "output_type": "stream",
     "text": [
      "('gouda', 5.0000000000000036)\n",
      "('cheddar', 5.000000000000001)\n",
      "('brie', 4.203573486490703)\n",
      "('swiss', 2.669019200661358)\n",
      "('roquefort', 3.599158692123502)\n"
     ]
    }
   ],
   "source": [
    "dr_teeth_scores = [np.dot(dr_teeth_features, row) for row in items.iloc[:, 2:12].to_numpy()]\n",
    "for row in zip(items['cheese'], dr_teeth_scores):\n",
    "    print(row)"
   ]
  }
 ],
 "metadata": {
  "kernelspec": {
   "display_name": "Python 3",
   "language": "python",
   "name": "python3"
  },
  "language_info": {
   "codemirror_mode": {
    "name": "ipython",
    "version": 3
   },
   "file_extension": ".py",
   "mimetype": "text/x-python",
   "name": "python",
   "nbconvert_exporter": "python",
   "pygments_lexer": "ipython3",
   "version": "3.7.1"
  }
 },
 "nbformat": 4,
 "nbformat_minor": 2
}
